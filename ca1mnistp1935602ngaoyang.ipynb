{
  "nbformat": 4,
  "nbformat_minor": 0,
  "metadata": {
    "colab": {
      "name": "ca1mnistp1935602ngaoyang.ipynb",
      "provenance": [],
      "collapsed_sections": [],
      "toc_visible": true
    },
    "kernelspec": {
      "name": "python3",
      "display_name": "Python 3"
    },
    "accelerator": "GPU"
  },
  "cells": [
    {
      "cell_type": "markdown",
      "metadata": {
        "id": "dKz9zQ0Ny2td"
      },
      "source": [
        "# CA1 MNist CNN Assignment\n",
        "# done by ng ao yang p1935602 dit/ft/2b/11\n",
        "\n",
        "#Prediction task\n",
        "-defined by \n",
        "- training the deep learning model to recognized digits (0 to 9 ) through data(input) and tuning it to make it more accurate.\n",
        "- output variable will be the digits recognized by the algorithm"
      ]
    },
    {
      "cell_type": "code",
      "metadata": {
        "colab": {
          "base_uri": "https://localhost:8080/",
          "height": 268
        },
        "id": "hYIdhFZQ4EAG",
        "outputId": "b6ec99ca-87aa-4545-9899-854d5d6b65f0"
      },
      "source": [
        "# Plot mnist instances\n",
        "from keras.datasets import mnist\n",
        "import matplotlib.pyplot as plt\n",
        "# load (downloaded if needed) the MNIST dataset\n",
        "(X_train, y_train), (X_test, y_test) = mnist.load_data()\n",
        "# plot 4 images as gray scale\n",
        "plt.subplot(221)\n",
        "plt.imshow(X_train[0], cmap=plt.get_cmap('gray'))\n",
        "plt.subplot(222)\n",
        "plt.imshow(X_train[1], cmap=plt.get_cmap('gray'))\n",
        "plt.subplot(223)\n",
        "plt.imshow(X_train[2], cmap=plt.get_cmap('gray'))\n",
        "plt.subplot(224)\n",
        "plt.imshow(X_train[3], cmap=plt.get_cmap('gray'))\n",
        "# show the plot\n",
        "plt.show()\n"
      ],
      "execution_count": null,
      "outputs": [
        {
          "output_type": "display_data",
          "data": {
            "image/png": "[encoded data removed]",
            "text/plain": [
              "<Figure size 432x288 with 4 Axes>"
            ]
          },
          "metadata": {
            "tags": [],
            "needs_background": "light"
          }
        }
      ]
    },
    {
      "cell_type": "markdown",
      "metadata": {
        "id": "5su-YKr4CqDI"
      },
      "source": [
        "plotting digits using dataset provided"
      ]
    },
    {
      "cell_type": "code",
      "metadata": {
        "colab": {
          "base_uri": "https://localhost:8080/"
        },
        "id": "Ja_hX-vK4H_Z",
        "outputId": "a9d8e1f2-f92f-4ba0-bc19-1183cd551c0d"
      },
      "source": [
        "import numpy\n",
        "from keras.datasets import mnist\n",
        "from keras.models import Sequential\n",
        "from keras.layers import Dense\n",
        "from keras.layers import Dropout\n",
        "from keras.layers import Flatten\n",
        "from keras.layers.convolutional import Conv2D\n",
        "from keras.layers.convolutional import MaxPooling2D\n",
        "from keras.utils import np_utils\n",
        "from keras import backend as K\n",
        "\n",
        "# Older Keras 1.X API, for 2D (image) set_image_dim_ordering('th') \n",
        "# assumes (depth,rows,cols), 'tf' assumes (rows,cols,depth). \n",
        "# K.set_image_dim_ordering('th')\n",
        "# Keras 2.X API, for 2D (image) set_image_data_format('channels_first') \n",
        "# assumes (depth,rows,cols), 'channels_last' assumes (rows,cols,depth). \n",
        "K.set_image_data_format('channels_first')\n",
        "\n",
        "# fix random seed for reproducibility\n",
        "seed = 1\n",
        "numpy.random.seed(seed)\n",
        "\n",
        "# load data\n",
        "(X_train, y_train), (X_test, y_test) = mnist.load_data()\n",
        "# reshape to be [samples][pixels][width][height]\n",
        "X_train = X_train.reshape(X_train.shape[0], 1, 28, 28).astype('float32')\n",
        "X_test = X_test.reshape(X_test.shape[0], 1, 28, 28).astype('float32')\n",
        "\n",
        "# normalize inputs from 0-255 to 0-1\n",
        "X_train = X_train / 255\n",
        "X_test = X_test / 255\n",
        "# one hot encode outputs\n",
        "y_train = np_utils.to_categorical(y_train)\n",
        "y_test = np_utils.to_categorical(y_test)\n",
        "num_classes = y_test.shape[1]\n",
        "\n",
        "# build the model\n",
        "# create model\n",
        "model = Sequential()\n",
        "model.add(Conv2D(32, (5, 5), input_shape=(1, 28, 28), activation='relu'))\n",
        "model.add(MaxPooling2D(pool_size=(2, 2)))\n",
        "model.add(Dropout(0.2))\n",
        "model.add(Flatten())\n",
        "model.add(Dense(128, activation='relu'))\n",
        "model.add(Dense(num_classes, activation='softmax'))\n",
        "# Compile model\n",
        "model.compile(loss='categorical_crossentropy', \n",
        "              optimizer='adam', metrics=['accuracy'])\n",
        "\n",
        "# Fit the model\n",
        "history = model.fit(X_train, y_train, validation_data=(X_test, y_test), \n",
        "          epochs=10, batch_size=200, verbose=2)\n",
        "# Final evaluation of the model\n",
        "scores = model.evaluate(X_test, y_test, verbose=0)\n",
        "print(\"CNN Error: %.2f%%\" % (100-scores[1]*100))\n"
      ],
      "execution_count": null,
      "outputs": [
        {
          "output_type": "stream",
          "text": [
            "Epoch 1/10\n",
            "300/300 - 1s - loss: 0.2460 - accuracy: 0.9290 - val_loss: 0.0741 - val_accuracy: 0.9768\n",
            "Epoch 2/10\n",
            "300/300 - 1s - loss: 0.0748 - accuracy: 0.9783 - val_loss: 0.0460 - val_accuracy: 0.9857\n",
            "Epoch 3/10\n",
            "300/300 - 1s - loss: 0.0521 - accuracy: 0.9843 - val_loss: 0.0405 - val_accuracy: 0.9868\n",
            "Epoch 4/10\n",
            "300/300 - 1s - loss: 0.0421 - accuracy: 0.9866 - val_loss: 0.0372 - val_accuracy: 0.9878\n",
            "Epoch 5/10\n",
            "300/300 - 1s - loss: 0.0342 - accuracy: 0.9892 - val_loss: 0.0352 - val_accuracy: 0.9879\n",
            "Epoch 6/10\n",
            "300/300 - 1s - loss: 0.0281 - accuracy: 0.9912 - val_loss: 0.0398 - val_accuracy: 0.9872\n",
            "Epoch 7/10\n",
            "300/300 - 1s - loss: 0.0222 - accuracy: 0.9930 - val_loss: 0.0355 - val_accuracy: 0.9873\n",
            "Epoch 8/10\n",
            "300/300 - 1s - loss: 0.0203 - accuracy: 0.9932 - val_loss: 0.0295 - val_accuracy: 0.9895\n",
            "Epoch 9/10\n",
            "300/300 - 1s - loss: 0.0179 - accuracy: 0.9942 - val_loss: 0.0364 - val_accuracy: 0.9885\n",
            "Epoch 10/10\n",
            "300/300 - 1s - loss: 0.0142 - accuracy: 0.9952 - val_loss: 0.0346 - val_accuracy: 0.9889\n",
            "CNN Error: 1.11%\n"
          ],
          "name": "stdout"
        }
      ]
    },
    {
      "cell_type": "markdown",
      "metadata": {
        "id": "SQJxQoxxCwxa"
      },
      "source": [
        "pretty high acccuracy, feels overfit to me, especially it is trained on 10 epochs, and only exposed to a certain dataset."
      ]
    },
    {
      "cell_type": "code",
      "metadata": {
        "colab": {
          "base_uri": "https://localhost:8080/",
          "height": 295
        },
        "id": "mSIjzMq-6YXO",
        "outputId": "8f9c24cb-e934-4166-e615-451f6ce51fc7"
      },
      "source": [
        "import matplotlib.pyplot as plt\n",
        "loss = history.history['loss']\n",
        "val_loss = history.history['val_loss']\n",
        "epochs = range(1, len(loss) + 1)\n",
        "plt.plot(epochs, loss, color='red', label='Training loss')\n",
        "plt.plot(epochs, val_loss, color='green', label='Validation loss')\n",
        "plt.title('Training and validation loss')\n",
        "plt.xlabel('Epochs')\n",
        "plt.ylabel('Loss')\n",
        "plt.legend()\n",
        "plt.show()"
      ],
      "execution_count": null,
      "outputs": [
        {
          "output_type": "display_data",
          "data": {
            "image/png": "[encoded data removed]",
            "text/plain": [
              "<Figure size 432x288 with 1 Axes>"
            ]
          },
          "metadata": {
            "tags": [],
            "needs_background": "light"
          }
        }
      ]
    },
    {
      "cell_type": "code",
      "metadata": {
        "colab": {
          "base_uri": "https://localhost:8080/",
          "height": 295
        },
        "id": "5jvxQP2F6iNk",
        "outputId": "c19a1c7f-fb18-4823-fc20-45fd7ee6291c"
      },
      "source": [
        "import matplotlib.pyplot as plt\n",
        "\n",
        "plt.plot(history.history['accuracy'])\n",
        "plt.plot(history.history['val_accuracy'])\n",
        "plt.title('model accuracy')\n",
        "plt.ylabel('accuracy')\n",
        "plt.xlabel('epoch')\n",
        "plt.legend(['train', 'test'], loc='upper left')\n",
        "plt.show()"
      ],
      "execution_count": null,
      "outputs": [
        {
          "output_type": "display_data",
          "data": {
            "image/png": "[encoded data removed]",
            "text/plain": [
              "<Figure size 432x288 with 1 Axes>"
            ]
          },
          "metadata": {
            "tags": [],
            "needs_background": "light"
          }
        }
      ]
    },
    {
      "cell_type": "markdown",
      "metadata": {
        "id": "SltMJbji0IAS"
      },
      "source": [
        "# How is the data represented as features?\n",
        "- The first column is the digit which was drawn by user, the rest of the columns contain the pixel values for the respective image. Each pixel has a single pixel-value associated with it, indicating the lightness or darkness of that pixel, with higher numbers meaning darker. This pixel-value is an integer between 0 and 255, inclusive.\n"
      ]
    },
    {
      "cell_type": "code",
      "metadata": {
        "id": "dedNqWzPxmhw",
        "colab": {
          "base_uri": "https://localhost:8080/"
        },
        "outputId": "bc6853e5-b52d-4e1e-a9e7-862cb24ac96a"
      },
      "source": [
        "# Larger CNN Model\n",
        "import numpy\n",
        "import tensorflow as tf\n",
        "from tensorflow.keras.datasets import mnist\n",
        "from tensorflow.keras.models import Sequential\n",
        "from tensorflow.keras.layers import Dense\n",
        "from tensorflow.keras.layers import Dropout\n",
        "from tensorflow.keras.layers import Flatten\n",
        "from tensorflow.keras.layers import Conv2D\n",
        "from tensorflow.keras.layers import MaxPooling2D\n",
        "from tensorflow.keras.utils import to_categorical\n",
        "from tensorflow.keras.callbacks import ModelCheckpoint,LearningRateScheduler\n",
        "\n",
        "# fix random seed for reproducibility\n",
        "seed = 88\n",
        "numpy.random.seed(seed)\n",
        "\n",
        "# load data\n",
        "(X_train, y_train), (X_test, y_test) = mnist.load_data()\n",
        "# reshape to be [samples][pixels][width][height]\n",
        "X_train = X_train.reshape(X_train.shape[0],1,28, 28).astype('float32')\n",
        "X_test = X_test.reshape(X_test.shape[0],1,28, 28).astype('float32')\n",
        "\n",
        "# normalize inputs from 0-255 to 0-1\n",
        "X_train = X_train / 255\n",
        "X_test = X_test / 255\n",
        "# one hot encode outputs\n",
        "y_train = to_categorical(y_train)\n",
        "y_test = to_categorical(y_test)\n",
        "num_classes = y_test.shape[1]\n",
        "\n",
        "# build the model\n",
        "# create model\n",
        "model = Sequential()\n",
        "model.add(Conv2D(30, (5, 5), input_shape=(1,28, 28), activation='relu'))\n",
        "model.add(MaxPooling2D(pool_size=(2, 2)))\n",
        "model.add(Conv2D(15, (3, 3), activation='relu'))\n",
        "model.add(MaxPooling2D(pool_size=(2, 2)))\n",
        "model.add(Dropout(0.2))\n",
        "model.add(Flatten())\n",
        "model.add(Dense(128, activation='relu'))\n",
        "model.add(Dense(50, activation='relu'))\n",
        "model.add(Dense(num_classes, activation='softmax'))\n",
        "# Compile model\n",
        "model.compile(loss='categorical_crossentropy', \n",
        "              optimizer='adam', metrics=['accuracy'])\n",
        "\n",
        "\n",
        "\n",
        "# Fit the model\n",
        "history = model.fit(X_train, y_train, validation_data=(X_test, y_test), \n",
        "          epochs=100, batch_size=2100000, verbose=2)\n",
        "# Final evaluation of the model\n",
        "scores = model.evaluate(X_test, y_test, verbose=0)\n",
        "print(\"CNN Error: %.2f%%\" % (100-scores[1]*100))\n",
        "\n",
        "\n",
        "\n"
      ],
      "execution_count": null,
      "outputs": [
        {
          "output_type": "stream",
          "text": [
            "Epoch 1/100\n",
            "1/1 - 0s - loss: 2.3099 - accuracy: 0.1115 - val_loss: 2.2771 - val_accuracy: 0.1361\n",
            "Epoch 2/100\n",
            "1/1 - 0s - loss: 2.2823 - accuracy: 0.1460 - val_loss: 2.2517 - val_accuracy: 0.2187\n",
            "Epoch 3/100\n",
            "1/1 - 0s - loss: 2.2588 - accuracy: 0.2004 - val_loss: 2.2264 - val_accuracy: 0.3197\n",
            "Epoch 4/100\n",
            "1/1 - 0s - loss: 2.2350 - accuracy: 0.2665 - val_loss: 2.1966 - val_accuracy: 0.4024\n",
            "Epoch 5/100\n",
            "1/1 - 0s - loss: 2.2072 - accuracy: 0.3254 - val_loss: 2.1594 - val_accuracy: 0.4611\n",
            "Epoch 6/100\n",
            "1/1 - 0s - loss: 2.1737 - accuracy: 0.3706 - val_loss: 2.1141 - val_accuracy: 0.5065\n",
            "Epoch 7/100\n",
            "1/1 - 0s - loss: 2.1329 - accuracy: 0.4023 - val_loss: 2.0603 - val_accuracy: 0.5365\n",
            "Epoch 8/100\n",
            "1/1 - 0s - loss: 2.0840 - accuracy: 0.4245 - val_loss: 1.9974 - val_accuracy: 0.5511\n",
            "Epoch 9/100\n",
            "1/1 - 0s - loss: 2.0269 - accuracy: 0.4464 - val_loss: 1.9247 - val_accuracy: 0.5678\n",
            "Epoch 10/100\n",
            "1/1 - 0s - loss: 1.9611 - accuracy: 0.4707 - val_loss: 1.8415 - val_accuracy: 0.5995\n",
            "Epoch 11/100\n",
            "1/1 - 0s - loss: 1.8855 - accuracy: 0.5037 - val_loss: 1.7471 - val_accuracy: 0.6382\n",
            "Epoch 12/100\n",
            "1/1 - 0s - loss: 1.7983 - accuracy: 0.5462 - val_loss: 1.6412 - val_accuracy: 0.6806\n",
            "Epoch 13/100\n",
            "1/1 - 0s - loss: 1.7024 - accuracy: 0.5879 - val_loss: 1.5249 - val_accuracy: 0.7185\n",
            "Epoch 14/100\n",
            "1/1 - 0s - loss: 1.5945 - accuracy: 0.6313 - val_loss: 1.4008 - val_accuracy: 0.7393\n",
            "Epoch 15/100\n",
            "1/1 - 0s - loss: 1.4820 - accuracy: 0.6625 - val_loss: 1.2736 - val_accuracy: 0.7493\n",
            "Epoch 16/100\n",
            "1/1 - 0s - loss: 1.3652 - accuracy: 0.6813 - val_loss: 1.1484 - val_accuracy: 0.7550\n",
            "Epoch 17/100\n",
            "1/1 - 0s - loss: 1.2497 - accuracy: 0.6951 - val_loss: 1.0302 - val_accuracy: 0.7673\n",
            "Epoch 18/100\n",
            "1/1 - 0s - loss: 1.1410 - accuracy: 0.7058 - val_loss: 0.9233 - val_accuracy: 0.7808\n",
            "Epoch 19/100\n",
            "1/1 - 0s - loss: 1.0387 - accuracy: 0.7201 - val_loss: 0.8313 - val_accuracy: 0.7930\n",
            "Epoch 20/100\n",
            "1/1 - 0s - loss: 0.9491 - accuracy: 0.7322 - val_loss: 0.7528 - val_accuracy: 0.8005\n",
            "Epoch 21/100\n",
            "1/1 - 0s - loss: 0.8730 - accuracy: 0.7432 - val_loss: 0.6805 - val_accuracy: 0.8143\n",
            "Epoch 22/100\n",
            "1/1 - 0s - loss: 0.8042 - accuracy: 0.7573 - val_loss: 0.6195 - val_accuracy: 0.8271\n",
            "Epoch 23/100\n",
            "1/1 - 0s - loss: 0.7490 - accuracy: 0.7675 - val_loss: 0.5714 - val_accuracy: 0.8378\n",
            "Epoch 24/100\n",
            "1/1 - 0s - loss: 0.7020 - accuracy: 0.7788 - val_loss: 0.5286 - val_accuracy: 0.8506\n",
            "Epoch 25/100\n",
            "1/1 - 0s - loss: 0.6590 - accuracy: 0.7929 - val_loss: 0.4945 - val_accuracy: 0.8611\n",
            "Epoch 26/100\n",
            "1/1 - 0s - loss: 0.6197 - accuracy: 0.8058 - val_loss: 0.4676 - val_accuracy: 0.8688\n",
            "Epoch 27/100\n",
            "1/1 - 0s - loss: 0.5959 - accuracy: 0.8126 - val_loss: 0.4398 - val_accuracy: 0.8767\n",
            "Epoch 28/100\n",
            "1/1 - 0s - loss: 0.5705 - accuracy: 0.8203 - val_loss: 0.4232 - val_accuracy: 0.8823\n",
            "Epoch 29/100\n",
            "1/1 - 0s - loss: 0.5480 - accuracy: 0.8295 - val_loss: 0.4039 - val_accuracy: 0.8878\n",
            "Epoch 30/100\n",
            "1/1 - 0s - loss: 0.5256 - accuracy: 0.8360 - val_loss: 0.3897 - val_accuracy: 0.8920\n",
            "Epoch 31/100\n",
            "1/1 - 0s - loss: 0.5086 - accuracy: 0.8449 - val_loss: 0.3782 - val_accuracy: 0.8956\n",
            "Epoch 32/100\n",
            "1/1 - 0s - loss: 0.4850 - accuracy: 0.8513 - val_loss: 0.3602 - val_accuracy: 0.8996\n",
            "Epoch 33/100\n",
            "1/1 - 0s - loss: 0.4725 - accuracy: 0.8567 - val_loss: 0.3481 - val_accuracy: 0.9021\n",
            "Epoch 34/100\n",
            "1/1 - 0s - loss: 0.4517 - accuracy: 0.8637 - val_loss: 0.3375 - val_accuracy: 0.9040\n",
            "Epoch 35/100\n",
            "1/1 - 0s - loss: 0.4375 - accuracy: 0.8682 - val_loss: 0.3238 - val_accuracy: 0.9086\n",
            "Epoch 36/100\n",
            "1/1 - 0s - loss: 0.4178 - accuracy: 0.8730 - val_loss: 0.3127 - val_accuracy: 0.9105\n",
            "Epoch 37/100\n",
            "1/1 - 0s - loss: 0.4053 - accuracy: 0.8788 - val_loss: 0.3028 - val_accuracy: 0.9132\n",
            "Epoch 38/100\n",
            "1/1 - 0s - loss: 0.3917 - accuracy: 0.8813 - val_loss: 0.2917 - val_accuracy: 0.9166\n",
            "Epoch 39/100\n",
            "1/1 - 0s - loss: 0.3801 - accuracy: 0.8870 - val_loss: 0.2812 - val_accuracy: 0.9201\n",
            "Epoch 40/100\n",
            "1/1 - 0s - loss: 0.3650 - accuracy: 0.8898 - val_loss: 0.2729 - val_accuracy: 0.9226\n",
            "Epoch 41/100\n",
            "1/1 - 0s - loss: 0.3529 - accuracy: 0.8945 - val_loss: 0.2657 - val_accuracy: 0.9251\n",
            "Epoch 42/100\n",
            "1/1 - 0s - loss: 0.3395 - accuracy: 0.8984 - val_loss: 0.2580 - val_accuracy: 0.9274\n",
            "Epoch 43/100\n",
            "1/1 - 0s - loss: 0.3300 - accuracy: 0.9008 - val_loss: 0.2498 - val_accuracy: 0.9294\n",
            "Epoch 44/100\n",
            "1/1 - 0s - loss: 0.3220 - accuracy: 0.9043 - val_loss: 0.2427 - val_accuracy: 0.9314\n",
            "Epoch 45/100\n",
            "1/1 - 0s - loss: 0.3117 - accuracy: 0.9062 - val_loss: 0.2362 - val_accuracy: 0.9332\n",
            "Epoch 46/100\n",
            "1/1 - 0s - loss: 0.3029 - accuracy: 0.9110 - val_loss: 0.2302 - val_accuracy: 0.9342\n",
            "Epoch 47/100\n",
            "1/1 - 0s - loss: 0.2940 - accuracy: 0.9130 - val_loss: 0.2243 - val_accuracy: 0.9360\n",
            "Epoch 48/100\n",
            "1/1 - 0s - loss: 0.2878 - accuracy: 0.9148 - val_loss: 0.2186 - val_accuracy: 0.9380\n",
            "Epoch 49/100\n",
            "1/1 - 0s - loss: 0.2810 - accuracy: 0.9171 - val_loss: 0.2131 - val_accuracy: 0.9399\n",
            "Epoch 50/100\n",
            "1/1 - 0s - loss: 0.2731 - accuracy: 0.9193 - val_loss: 0.2079 - val_accuracy: 0.9415\n",
            "Epoch 51/100\n",
            "1/1 - 0s - loss: 0.2669 - accuracy: 0.9208 - val_loss: 0.2032 - val_accuracy: 0.9427\n",
            "Epoch 52/100\n",
            "1/1 - 0s - loss: 0.2582 - accuracy: 0.9236 - val_loss: 0.1988 - val_accuracy: 0.9439\n",
            "Epoch 53/100\n",
            "1/1 - 0s - loss: 0.2528 - accuracy: 0.9257 - val_loss: 0.1936 - val_accuracy: 0.9454\n",
            "Epoch 54/100\n",
            "1/1 - 0s - loss: 0.2466 - accuracy: 0.9275 - val_loss: 0.1882 - val_accuracy: 0.9473\n",
            "Epoch 55/100\n",
            "1/1 - 0s - loss: 0.2428 - accuracy: 0.9290 - val_loss: 0.1834 - val_accuracy: 0.9479\n",
            "Epoch 56/100\n",
            "1/1 - 0s - loss: 0.2371 - accuracy: 0.9303 - val_loss: 0.1790 - val_accuracy: 0.9484\n",
            "Epoch 57/100\n",
            "1/1 - 0s - loss: 0.2309 - accuracy: 0.9321 - val_loss: 0.1746 - val_accuracy: 0.9493\n",
            "Epoch 58/100\n",
            "1/1 - 0s - loss: 0.2248 - accuracy: 0.9329 - val_loss: 0.1697 - val_accuracy: 0.9506\n",
            "Epoch 59/100\n",
            "1/1 - 0s - loss: 0.2199 - accuracy: 0.9356 - val_loss: 0.1650 - val_accuracy: 0.9520\n",
            "Epoch 60/100\n",
            "1/1 - 0s - loss: 0.2148 - accuracy: 0.9371 - val_loss: 0.1609 - val_accuracy: 0.9530\n",
            "Epoch 61/100\n",
            "1/1 - 0s - loss: 0.2109 - accuracy: 0.9374 - val_loss: 0.1574 - val_accuracy: 0.9541\n",
            "Epoch 62/100\n",
            "1/1 - 0s - loss: 0.2075 - accuracy: 0.9385 - val_loss: 0.1540 - val_accuracy: 0.9547\n",
            "Epoch 63/100\n",
            "1/1 - 0s - loss: 0.2016 - accuracy: 0.9395 - val_loss: 0.1504 - val_accuracy: 0.9559\n",
            "Epoch 64/100\n",
            "1/1 - 0s - loss: 0.1968 - accuracy: 0.9418 - val_loss: 0.1468 - val_accuracy: 0.9567\n",
            "Epoch 65/100\n",
            "1/1 - 0s - loss: 0.1951 - accuracy: 0.9422 - val_loss: 0.1436 - val_accuracy: 0.9572\n",
            "Epoch 66/100\n",
            "1/1 - 0s - loss: 0.1911 - accuracy: 0.9435 - val_loss: 0.1407 - val_accuracy: 0.9583\n",
            "Epoch 67/100\n",
            "1/1 - 0s - loss: 0.1860 - accuracy: 0.9450 - val_loss: 0.1378 - val_accuracy: 0.9590\n",
            "Epoch 68/100\n",
            "1/1 - 0s - loss: 0.1809 - accuracy: 0.9463 - val_loss: 0.1349 - val_accuracy: 0.9598\n",
            "Epoch 69/100\n",
            "1/1 - 0s - loss: 0.1791 - accuracy: 0.9463 - val_loss: 0.1318 - val_accuracy: 0.9611\n",
            "Epoch 70/100\n",
            "1/1 - 0s - loss: 0.1748 - accuracy: 0.9481 - val_loss: 0.1290 - val_accuracy: 0.9620\n",
            "Epoch 71/100\n",
            "1/1 - 0s - loss: 0.1737 - accuracy: 0.9483 - val_loss: 0.1266 - val_accuracy: 0.9624\n",
            "Epoch 72/100\n",
            "1/1 - 0s - loss: 0.1716 - accuracy: 0.9486 - val_loss: 0.1244 - val_accuracy: 0.9627\n",
            "Epoch 73/100\n",
            "1/1 - 0s - loss: 0.1671 - accuracy: 0.9503 - val_loss: 0.1223 - val_accuracy: 0.9633\n",
            "Epoch 74/100\n",
            "1/1 - 0s - loss: 0.1644 - accuracy: 0.9514 - val_loss: 0.1201 - val_accuracy: 0.9637\n",
            "Epoch 75/100\n",
            "1/1 - 0s - loss: 0.1643 - accuracy: 0.9517 - val_loss: 0.1178 - val_accuracy: 0.9646\n",
            "Epoch 76/100\n",
            "1/1 - 0s - loss: 0.1591 - accuracy: 0.9524 - val_loss: 0.1157 - val_accuracy: 0.9661\n",
            "Epoch 77/100\n",
            "1/1 - 0s - loss: 0.1592 - accuracy: 0.9527 - val_loss: 0.1139 - val_accuracy: 0.9664\n",
            "Epoch 78/100\n",
            "1/1 - 0s - loss: 0.1549 - accuracy: 0.9537 - val_loss: 0.1120 - val_accuracy: 0.9670\n",
            "Epoch 79/100\n",
            "1/1 - 0s - loss: 0.1505 - accuracy: 0.9547 - val_loss: 0.1100 - val_accuracy: 0.9680\n",
            "Epoch 80/100\n",
            "1/1 - 0s - loss: 0.1498 - accuracy: 0.9557 - val_loss: 0.1079 - val_accuracy: 0.9682\n",
            "Epoch 81/100\n",
            "1/1 - 0s - loss: 0.1476 - accuracy: 0.9557 - val_loss: 0.1058 - val_accuracy: 0.9690\n",
            "Epoch 82/100\n",
            "1/1 - 0s - loss: 0.1456 - accuracy: 0.9563 - val_loss: 0.1040 - val_accuracy: 0.9696\n",
            "Epoch 83/100\n",
            "1/1 - 0s - loss: 0.1446 - accuracy: 0.9571 - val_loss: 0.1024 - val_accuracy: 0.9695\n",
            "Epoch 84/100\n",
            "1/1 - 0s - loss: 0.1408 - accuracy: 0.9583 - val_loss: 0.1011 - val_accuracy: 0.9705\n",
            "Epoch 85/100\n",
            "1/1 - 0s - loss: 0.1402 - accuracy: 0.9579 - val_loss: 0.0997 - val_accuracy: 0.9706\n",
            "Epoch 86/100\n",
            "1/1 - 0s - loss: 0.1380 - accuracy: 0.9589 - val_loss: 0.0981 - val_accuracy: 0.9713\n",
            "Epoch 87/100\n",
            "1/1 - 0s - loss: 0.1353 - accuracy: 0.9600 - val_loss: 0.0966 - val_accuracy: 0.9714\n",
            "Epoch 88/100\n",
            "1/1 - 0s - loss: 0.1336 - accuracy: 0.9602 - val_loss: 0.0952 - val_accuracy: 0.9719\n",
            "Epoch 89/100\n",
            "1/1 - 0s - loss: 0.1323 - accuracy: 0.9606 - val_loss: 0.0940 - val_accuracy: 0.9721\n",
            "Epoch 90/100\n",
            "1/1 - 0s - loss: 0.1303 - accuracy: 0.9613 - val_loss: 0.0927 - val_accuracy: 0.9722\n",
            "Epoch 91/100\n",
            "1/1 - 0s - loss: 0.1284 - accuracy: 0.9619 - val_loss: 0.0911 - val_accuracy: 0.9728\n",
            "Epoch 92/100\n",
            "1/1 - 0s - loss: 0.1286 - accuracy: 0.9617 - val_loss: 0.0895 - val_accuracy: 0.9732\n",
            "Epoch 93/100\n",
            "1/1 - 0s - loss: 0.1251 - accuracy: 0.9629 - val_loss: 0.0882 - val_accuracy: 0.9734\n",
            "Epoch 94/100\n",
            "1/1 - 0s - loss: 0.1233 - accuracy: 0.9632 - val_loss: 0.0871 - val_accuracy: 0.9739\n",
            "Epoch 95/100\n",
            "1/1 - 0s - loss: 0.1224 - accuracy: 0.9633 - val_loss: 0.0861 - val_accuracy: 0.9745\n",
            "Epoch 96/100\n",
            "1/1 - 0s - loss: 0.1209 - accuracy: 0.9640 - val_loss: 0.0852 - val_accuracy: 0.9751\n",
            "Epoch 97/100\n",
            "1/1 - 0s - loss: 0.1205 - accuracy: 0.9649 - val_loss: 0.0840 - val_accuracy: 0.9751\n",
            "Epoch 98/100\n",
            "1/1 - 0s - loss: 0.1174 - accuracy: 0.9646 - val_loss: 0.0827 - val_accuracy: 0.9752\n",
            "Epoch 99/100\n",
            "1/1 - 0s - loss: 0.1170 - accuracy: 0.9649 - val_loss: 0.0815 - val_accuracy: 0.9754\n",
            "Epoch 100/100\n",
            "1/1 - 0s - loss: 0.1170 - accuracy: 0.9648 - val_loss: 0.0805 - val_accuracy: 0.9761\n",
            "CNN Error: 2.39%\n"
          ],
          "name": "stdout"
        }
      ]
    },
    {
      "cell_type": "markdown",
      "metadata": {
        "id": "NKjTa2pKDCKL"
      },
      "source": [
        "Complex nn, feels more fitting to me with lower loss but lower accuracy too."
      ]
    },
    {
      "cell_type": "code",
      "metadata": {
        "colab": {
          "base_uri": "https://localhost:8080/",
          "height": 295
        },
        "id": "0zQytUQI-ZDF",
        "outputId": "79db368d-0b88-46de-f1dc-1cfb88b42a8e"
      },
      "source": [
        "import matplotlib.pyplot as plt\n",
        "loss = history.history['loss']\n",
        "val_loss = history.history['val_loss']\n",
        "epochs = range(1, len(loss) + 1)\n",
        "plt.plot(epochs, loss, color='red', label='Training loss')\n",
        "plt.plot(epochs, val_loss, color='green', label='Validation loss')\n",
        "plt.title('Training and validation loss')\n",
        "plt.xlabel('Epochs')\n",
        "plt.ylabel('Loss')\n",
        "plt.legend()\n",
        "plt.show()"
      ],
      "execution_count": null,
      "outputs": [
        {
          "output_type": "display_data",
          "data": {
            "image/png": "[encoded data removed]",
            "text/plain": [
              "<Figure size 432x288 with 1 Axes>"
            ]
          },
          "metadata": {
            "tags": [],
            "needs_background": "light"
          }
        }
      ]
    },
    {
      "cell_type": "code",
      "metadata": {
        "colab": {
          "base_uri": "https://localhost:8080/",
          "height": 295
        },
        "id": "Fv4UIQGa_mBh",
        "outputId": "138be464-8fa3-45e3-d79c-9f40c7dadd92"
      },
      "source": [
        "import matplotlib.pyplot as plt\n",
        "\n",
        "plt.plot(history.history['accuracy'])\n",
        "plt.plot(history.history['val_accuracy'])\n",
        "plt.title('model accuracy')\n",
        "plt.ylabel('accuracy')\n",
        "plt.xlabel('epoch')\n",
        "plt.legend(['train', 'test'], loc='upper left')\n",
        "plt.show()"
      ],
      "execution_count": null,
      "outputs": [
        {
          "output_type": "display_data",
          "data": {
            "image/png": "[encoded data removed]",
            "text/plain": [
              "<Figure size 432x288 with 1 Axes>"
            ]
          },
          "metadata": {
            "tags": [],
            "needs_background": "light"
          }
        }
      ]
    },
    {
      "cell_type": "code",
      "metadata": {
        "id": "URQBiyYFxzhN",
        "colab": {
          "base_uri": "https://localhost:8080/"
        },
        "outputId": "67237d09-4652-4e59-aa66-5f4eca72e54e"
      },
      "source": [
        "model.summary()"
      ],
      "execution_count": null,
      "outputs": [
        {
          "output_type": "stream",
          "text": [
            "Model: \"sequential\"\n",
            "_________________________________________________________________\n",
            "Layer (type)                 Output Shape              Param #   \n",
            "=================================================================\n",
            "conv2d (Conv2D)              (None, 24, 24, 30)        780       \n",
            "_________________________________________________________________\n",
            "max_pooling2d (MaxPooling2D) (None, 12, 12, 30)        0         \n",
            "_________________________________________________________________\n",
            "conv2d_1 (Conv2D)            (None, 10, 10, 15)        4065      \n",
            "_________________________________________________________________\n",
            "max_pooling2d_1 (MaxPooling2 (None, 5, 5, 15)          0         \n",
            "_________________________________________________________________\n",
            "dropout (Dropout)            (None, 5, 5, 15)          0         \n",
            "_________________________________________________________________\n",
            "flatten (Flatten)            (None, 375)               0         \n",
            "_________________________________________________________________\n",
            "dense (Dense)                (None, 128)               48128     \n",
            "_________________________________________________________________\n",
            "dense_1 (Dense)              (None, 50)                6450      \n",
            "_________________________________________________________________\n",
            "dense_2 (Dense)              (None, 10)                510       \n",
            "=================================================================\n",
            "Total params: 59,933\n",
            "Trainable params: 59,933\n",
            "Non-trainable params: 0\n",
            "_________________________________________________________________\n"
          ],
          "name": "stdout"
        }
      ]
    },
    {
      "cell_type": "code",
      "metadata": {
        "id": "q6ocLinE0RQf"
      },
      "source": [
        "from keras.preprocessing.image import ImageDataGenerator\n",
        "from keras.callbacks import ModelCheckpoint\n",
        "dataGen = ImageDataGenerator(rotation_range=15,width_shift_range=0.2,height_shift_range=0.2,\n",
        "                             shear_range=0.15,zoom_range=[0.5,2],validation_split=0.2)\n",
        "dataGen.fit(X_train)\n"
      ],
      "execution_count": null,
      "outputs": []
    },
    {
      "cell_type": "markdown",
      "metadata": {
        "id": "2kofCuBRDRzk"
      },
      "source": [
        "generating rotated digits for my model to train on"
      ]
    },
    {
      "cell_type": "code",
      "metadata": {
        "id": "xbgxQQ_01ol4"
      },
      "source": [
        "train_generator = dataGen.flow(X_train, y_train, batch_size=64, shuffle=True, \n",
        "                               seed=2, save_to_dir=None, subset='training')\n",
        "\n",
        "validation_generator = dataGen.flow(X_train, y_train, batch_size=64, shuffle=True, \n",
        "                               seed=2, save_to_dir=None, subset='validation')"
      ],
      "execution_count": null,
      "outputs": []
    },
    {
      "cell_type": "markdown",
      "metadata": {
        "id": "kdFwIHivDcuk"
      },
      "source": [
        "basically something like the X_train ,y_Train and validation ( X_test,Y_test)"
      ]
    },
    {
      "cell_type": "code",
      "metadata": {
        "id": "FWSTQoq51sER"
      },
      "source": [
        "filepath_val_acc=\"model_gen_cnn_acc.best.hdf5\"\n",
        "checkpoint_val_acc = ModelCheckpoint(filepath_val_acc, monitor='acc', verbose=1, save_best_only=True, mode='max')\n",
        "callbacks_list = [checkpoint_val_acc]\n"
      ],
      "execution_count": null,
      "outputs": []
    },
    {
      "cell_type": "markdown",
      "metadata": {
        "id": "-mgbgjIBDqkr"
      },
      "source": [
        "saving best model only"
      ]
    },
    {
      "cell_type": "code",
      "metadata": {
        "id": "aECNjs9m1sH6",
        "colab": {
          "base_uri": "https://localhost:8080/"
        },
        "outputId": "f0d08506-24fe-4ec7-c73d-ca9d1f40deb4"
      },
      "source": [
        "history = model.fit_generator(train_generator,\n",
        "                                                steps_per_epoch = 600,\n",
        "                                                epochs=100,\n",
        "                                                validation_data = validation_generator,\n",
        "                                                validation_steps = 150,\n",
        "                                                callbacks = callbacks_list)\n",
        "# history = model.fit_generator(X_train, y_train, validation_data=(X_test, y_test), \n",
        "#           epochs=100, batch_size=2100000, verbose=2)"
      ],
      "execution_count": null,
      "outputs": [
        {
          "output_type": "stream",
          "text": [
            "Epoch 1/100\n",
            "598/600 [============================>.] - ETA: 0s - loss: 1.0338 - accuracy: 0.6741WARNING:tensorflow:Can save best model only with acc available, skipping.\n",
            "600/600 [==============================] - 13s 21ms/step - loss: 1.0337 - accuracy: 0.6743 - val_loss: 0.6077 - val_accuracy: 0.8161\n",
            "Epoch 2/100\n",
            "599/600 [============================>.] - ETA: 0s - loss: 0.5928 - accuracy: 0.8153WARNING:tensorflow:Can save best model only with acc available, skipping.\n",
            "600/600 [==============================] - 13s 21ms/step - loss: 0.5924 - accuracy: 0.8154 - val_loss: 0.4496 - val_accuracy: 0.8627\n",
            "Epoch 3/100\n",
            "599/600 [============================>.] - ETA: 0s - loss: 0.4782 - accuracy: 0.8476WARNING:tensorflow:Can save best model only with acc available, skipping.\n",
            "600/600 [==============================] - 13s 22ms/step - loss: 0.4779 - accuracy: 0.8477 - val_loss: 0.3542 - val_accuracy: 0.8919\n",
            "Epoch 4/100\n",
            "598/600 [============================>.] - ETA: 0s - loss: 0.4222 - accuracy: 0.8672WARNING:tensorflow:Can save best model only with acc available, skipping.\n",
            "600/600 [==============================] - 13s 21ms/step - loss: 0.4220 - accuracy: 0.8673 - val_loss: 0.3263 - val_accuracy: 0.9024\n",
            "Epoch 5/100\n",
            "599/600 [============================>.] - ETA: 0s - loss: 0.3733 - accuracy: 0.8814WARNING:tensorflow:Can save best model only with acc available, skipping.\n",
            "600/600 [==============================] - 13s 21ms/step - loss: 0.3731 - accuracy: 0.8814 - val_loss: 0.3040 - val_accuracy: 0.9053\n",
            "Epoch 6/100\n",
            "599/600 [============================>.] - ETA: 0s - loss: 0.3450 - accuracy: 0.8924WARNING:tensorflow:Can save best model only with acc available, skipping.\n",
            "600/600 [==============================] - 13s 22ms/step - loss: 0.3452 - accuracy: 0.8923 - val_loss: 0.2668 - val_accuracy: 0.9156\n",
            "Epoch 7/100\n",
            "598/600 [============================>.] - ETA: 0s - loss: 0.3248 - accuracy: 0.8977WARNING:tensorflow:Can save best model only with acc available, skipping.\n",
            "600/600 [==============================] - 13s 22ms/step - loss: 0.3252 - accuracy: 0.8976 - val_loss: 0.2733 - val_accuracy: 0.9160\n",
            "Epoch 8/100\n",
            "600/600 [==============================] - ETA: 0s - loss: 0.3117 - accuracy: 0.9016WARNING:tensorflow:Can save best model only with acc available, skipping.\n",
            "600/600 [==============================] - 13s 22ms/step - loss: 0.3117 - accuracy: 0.9016 - val_loss: 0.2459 - val_accuracy: 0.9252\n",
            "Epoch 9/100\n",
            "600/600 [==============================] - ETA: 0s - loss: 0.2963 - accuracy: 0.9061WARNING:tensorflow:Can save best model only with acc available, skipping.\n",
            "600/600 [==============================] - 13s 21ms/step - loss: 0.2963 - accuracy: 0.9061 - val_loss: 0.2279 - val_accuracy: 0.9297\n",
            "Epoch 10/100\n",
            "597/600 [============================>.] - ETA: 0s - loss: 0.2848 - accuracy: 0.9113WARNING:tensorflow:Can save best model only with acc available, skipping.\n",
            "600/600 [==============================] - 13s 21ms/step - loss: 0.2848 - accuracy: 0.9114 - val_loss: 0.2223 - val_accuracy: 0.9336\n",
            "Epoch 11/100\n",
            "599/600 [============================>.] - ETA: 0s - loss: 0.2685 - accuracy: 0.9149WARNING:tensorflow:Can save best model only with acc available, skipping.\n",
            "600/600 [==============================] - 13s 22ms/step - loss: 0.2685 - accuracy: 0.9149 - val_loss: 0.2114 - val_accuracy: 0.9331\n",
            "Epoch 12/100\n",
            "597/600 [============================>.] - ETA: 0s - loss: 0.2664 - accuracy: 0.9141WARNING:tensorflow:Can save best model only with acc available, skipping.\n",
            "600/600 [==============================] - 13s 22ms/step - loss: 0.2663 - accuracy: 0.9141 - val_loss: 0.2095 - val_accuracy: 0.9324\n",
            "Epoch 13/100\n",
            "599/600 [============================>.] - ETA: 0s - loss: 0.2535 - accuracy: 0.9189WARNING:tensorflow:Can save best model only with acc available, skipping.\n",
            "600/600 [==============================] - 13s 22ms/step - loss: 0.2537 - accuracy: 0.9189 - val_loss: 0.1956 - val_accuracy: 0.9356\n",
            "Epoch 14/100\n",
            "599/600 [============================>.] - ETA: 0s - loss: 0.2529 - accuracy: 0.9188WARNING:tensorflow:Can save best model only with acc available, skipping.\n",
            "600/600 [==============================] - 13s 22ms/step - loss: 0.2531 - accuracy: 0.9188 - val_loss: 0.1989 - val_accuracy: 0.9362\n",
            "Epoch 15/100\n",
            "599/600 [============================>.] - ETA: 0s - loss: 0.2477 - accuracy: 0.9209WARNING:tensorflow:Can save best model only with acc available, skipping.\n",
            "600/600 [==============================] - 13s 22ms/step - loss: 0.2481 - accuracy: 0.9208 - val_loss: 0.1867 - val_accuracy: 0.9430\n",
            "Epoch 16/100\n",
            "598/600 [============================>.] - ETA: 0s - loss: 0.2338 - accuracy: 0.9246WARNING:tensorflow:Can save best model only with acc available, skipping.\n",
            "600/600 [==============================] - 13s 21ms/step - loss: 0.2345 - accuracy: 0.9245 - val_loss: 0.1799 - val_accuracy: 0.9417\n",
            "Epoch 17/100\n",
            "600/600 [==============================] - ETA: 0s - loss: 0.2320 - accuracy: 0.9276WARNING:tensorflow:Can save best model only with acc available, skipping.\n",
            "600/600 [==============================] - 13s 21ms/step - loss: 0.2320 - accuracy: 0.9276 - val_loss: 0.1956 - val_accuracy: 0.9379\n",
            "Epoch 18/100\n",
            "600/600 [==============================] - ETA: 0s - loss: 0.2320 - accuracy: 0.9248WARNING:tensorflow:Can save best model only with acc available, skipping.\n",
            "600/600 [==============================] - 13s 22ms/step - loss: 0.2320 - accuracy: 0.9248 - val_loss: 0.1767 - val_accuracy: 0.9451\n",
            "Epoch 19/100\n",
            "599/600 [============================>.] - ETA: 0s - loss: 0.2263 - accuracy: 0.9272WARNING:tensorflow:Can save best model only with acc available, skipping.\n",
            "600/600 [==============================] - 13s 22ms/step - loss: 0.2264 - accuracy: 0.9272 - val_loss: 0.1980 - val_accuracy: 0.9360\n",
            "Epoch 20/100\n",
            "598/600 [============================>.] - ETA: 0s - loss: 0.2190 - accuracy: 0.9289WARNING:tensorflow:Can save best model only with acc available, skipping.\n",
            "600/600 [==============================] - 13s 22ms/step - loss: 0.2190 - accuracy: 0.9289 - val_loss: 0.1654 - val_accuracy: 0.9474\n",
            "Epoch 21/100\n",
            "600/600 [==============================] - ETA: 0s - loss: 0.2166 - accuracy: 0.9309WARNING:tensorflow:Can save best model only with acc available, skipping.\n",
            "600/600 [==============================] - 13s 22ms/step - loss: 0.2166 - accuracy: 0.9309 - val_loss: 0.1735 - val_accuracy: 0.9452\n",
            "Epoch 22/100\n",
            "598/600 [============================>.] - ETA: 0s - loss: 0.2173 - accuracy: 0.9288WARNING:tensorflow:Can save best model only with acc available, skipping.\n",
            "600/600 [==============================] - 13s 22ms/step - loss: 0.2177 - accuracy: 0.9287 - val_loss: 0.1728 - val_accuracy: 0.9480\n",
            "Epoch 23/100\n",
            "599/600 [============================>.] - ETA: 0s - loss: 0.2136 - accuracy: 0.9304WARNING:tensorflow:Can save best model only with acc available, skipping.\n",
            "600/600 [==============================] - 13s 22ms/step - loss: 0.2135 - accuracy: 0.9305 - val_loss: 0.1744 - val_accuracy: 0.9446\n",
            "Epoch 24/100\n",
            "599/600 [============================>.] - ETA: 0s - loss: 0.2037 - accuracy: 0.9345WARNING:tensorflow:Can save best model only with acc available, skipping.\n",
            "600/600 [==============================] - 13s 21ms/step - loss: 0.2040 - accuracy: 0.9345 - val_loss: 0.1772 - val_accuracy: 0.9454\n",
            "Epoch 25/100\n",
            "599/600 [============================>.] - ETA: 0s - loss: 0.2064 - accuracy: 0.9341WARNING:tensorflow:Can save best model only with acc available, skipping.\n",
            "600/600 [==============================] - 13s 22ms/step - loss: 0.2063 - accuracy: 0.9342 - val_loss: 0.1684 - val_accuracy: 0.9473\n",
            "Epoch 26/100\n",
            "598/600 [============================>.] - ETA: 0s - loss: 0.2017 - accuracy: 0.9364WARNING:tensorflow:Can save best model only with acc available, skipping.\n",
            "600/600 [==============================] - 13s 22ms/step - loss: 0.2018 - accuracy: 0.9363 - val_loss: 0.1449 - val_accuracy: 0.9534\n",
            "Epoch 27/100\n",
            "600/600 [==============================] - ETA: 0s - loss: 0.2031 - accuracy: 0.9346WARNING:tensorflow:Can save best model only with acc available, skipping.\n",
            "600/600 [==============================] - 13s 22ms/step - loss: 0.2031 - accuracy: 0.9346 - val_loss: 0.1616 - val_accuracy: 0.9498\n",
            "Epoch 28/100\n",
            "598/600 [============================>.] - ETA: 0s - loss: 0.1934 - accuracy: 0.9385WARNING:tensorflow:Can save best model only with acc available, skipping.\n",
            "600/600 [==============================] - 13s 22ms/step - loss: 0.1937 - accuracy: 0.9384 - val_loss: 0.1796 - val_accuracy: 0.9433\n",
            "Epoch 29/100\n",
            "599/600 [============================>.] - ETA: 0s - loss: 0.1897 - accuracy: 0.9394WARNING:tensorflow:Can save best model only with acc available, skipping.\n",
            "600/600 [==============================] - 13s 22ms/step - loss: 0.1895 - accuracy: 0.9395 - val_loss: 0.1403 - val_accuracy: 0.9565\n",
            "Epoch 30/100\n",
            "599/600 [============================>.] - ETA: 0s - loss: 0.1940 - accuracy: 0.9384WARNING:tensorflow:Can save best model only with acc available, skipping.\n",
            "600/600 [==============================] - 13s 22ms/step - loss: 0.1940 - accuracy: 0.9384 - val_loss: 0.1550 - val_accuracy: 0.9521\n",
            "Epoch 31/100\n",
            "600/600 [==============================] - ETA: 0s - loss: 0.1958 - accuracy: 0.9376WARNING:tensorflow:Can save best model only with acc available, skipping.\n",
            "600/600 [==============================] - 13s 22ms/step - loss: 0.1958 - accuracy: 0.9376 - val_loss: 0.1478 - val_accuracy: 0.9525\n",
            "Epoch 32/100\n",
            "599/600 [============================>.] - ETA: 0s - loss: 0.1950 - accuracy: 0.9382WARNING:tensorflow:Can save best model only with acc available, skipping.\n",
            "600/600 [==============================] - 13s 22ms/step - loss: 0.1952 - accuracy: 0.9381 - val_loss: 0.1607 - val_accuracy: 0.9477\n",
            "Epoch 33/100\n",
            "600/600 [==============================] - ETA: 0s - loss: 0.1958 - accuracy: 0.9398WARNING:tensorflow:Can save best model only with acc available, skipping.\n",
            "600/600 [==============================] - 13s 22ms/step - loss: 0.1958 - accuracy: 0.9398 - val_loss: 0.1592 - val_accuracy: 0.9505\n",
            "Epoch 34/100\n",
            "600/600 [==============================] - ETA: 0s - loss: 0.1826 - accuracy: 0.9426WARNING:tensorflow:Can save best model only with acc available, skipping.\n",
            "600/600 [==============================] - 13s 22ms/step - loss: 0.1826 - accuracy: 0.9426 - val_loss: 0.1575 - val_accuracy: 0.9497\n",
            "Epoch 35/100\n",
            "600/600 [==============================] - ETA: 0s - loss: 0.1864 - accuracy: 0.9403WARNING:tensorflow:Can save best model only with acc available, skipping.\n",
            "600/600 [==============================] - 13s 22ms/step - loss: 0.1864 - accuracy: 0.9403 - val_loss: 0.1408 - val_accuracy: 0.9567\n",
            "Epoch 36/100\n",
            "598/600 [============================>.] - ETA: 0s - loss: 0.1849 - accuracy: 0.9413WARNING:tensorflow:Can save best model only with acc available, skipping.\n",
            "600/600 [==============================] - 13s 22ms/step - loss: 0.1851 - accuracy: 0.9414 - val_loss: 0.1435 - val_accuracy: 0.9547\n",
            "Epoch 37/100\n",
            "598/600 [============================>.] - ETA: 0s - loss: 0.1794 - accuracy: 0.9421WARNING:tensorflow:Can save best model only with acc available, skipping.\n",
            "600/600 [==============================] - 13s 22ms/step - loss: 0.1793 - accuracy: 0.9421 - val_loss: 0.1462 - val_accuracy: 0.9523\n",
            "Epoch 38/100\n",
            "599/600 [============================>.] - ETA: 0s - loss: 0.1856 - accuracy: 0.9403WARNING:tensorflow:Can save best model only with acc available, skipping.\n",
            "600/600 [==============================] - 13s 22ms/step - loss: 0.1855 - accuracy: 0.9404 - val_loss: 0.1466 - val_accuracy: 0.9528\n",
            "Epoch 39/100\n",
            "598/600 [============================>.] - ETA: 0s - loss: 0.1865 - accuracy: 0.9411WARNING:tensorflow:Can save best model only with acc available, skipping.\n",
            "600/600 [==============================] - 13s 22ms/step - loss: 0.1865 - accuracy: 0.9411 - val_loss: 0.1347 - val_accuracy: 0.9574\n",
            "Epoch 40/100\n",
            "598/600 [============================>.] - ETA: 0s - loss: 0.1777 - accuracy: 0.9441WARNING:tensorflow:Can save best model only with acc available, skipping.\n",
            "600/600 [==============================] - 13s 22ms/step - loss: 0.1778 - accuracy: 0.9441 - val_loss: 0.1422 - val_accuracy: 0.9557\n",
            "Epoch 41/100\n",
            "599/600 [============================>.] - ETA: 0s - loss: 0.1795 - accuracy: 0.9431WARNING:tensorflow:Can save best model only with acc available, skipping.\n",
            "600/600 [==============================] - 13s 21ms/step - loss: 0.1795 - accuracy: 0.9431 - val_loss: 0.1401 - val_accuracy: 0.9576\n",
            "Epoch 42/100\n",
            "598/600 [============================>.] - ETA: 0s - loss: 0.1832 - accuracy: 0.9422WARNING:tensorflow:Can save best model only with acc available, skipping.\n",
            "600/600 [==============================] - 13s 22ms/step - loss: 0.1830 - accuracy: 0.9423 - val_loss: 0.1399 - val_accuracy: 0.9565\n",
            "Epoch 43/100\n",
            "600/600 [==============================] - ETA: 0s - loss: 0.1755 - accuracy: 0.9456WARNING:tensorflow:Can save best model only with acc available, skipping.\n",
            "600/600 [==============================] - 13s 22ms/step - loss: 0.1755 - accuracy: 0.9456 - val_loss: 0.1420 - val_accuracy: 0.9543\n",
            "Epoch 44/100\n",
            "600/600 [==============================] - ETA: 0s - loss: 0.1785 - accuracy: 0.9428WARNING:tensorflow:Can save best model only with acc available, skipping.\n",
            "600/600 [==============================] - 14s 23ms/step - loss: 0.1785 - accuracy: 0.9428 - val_loss: 0.1261 - val_accuracy: 0.9606\n",
            "Epoch 45/100\n",
            "600/600 [==============================] - ETA: 0s - loss: 0.1761 - accuracy: 0.9428WARNING:tensorflow:Can save best model only with acc available, skipping.\n",
            "600/600 [==============================] - 13s 22ms/step - loss: 0.1761 - accuracy: 0.9428 - val_loss: 0.1293 - val_accuracy: 0.9598\n",
            "Epoch 46/100\n",
            "597/600 [============================>.] - ETA: 0s - loss: 0.1679 - accuracy: 0.9472WARNING:tensorflow:Can save best model only with acc available, skipping.\n",
            "600/600 [==============================] - 13s 22ms/step - loss: 0.1677 - accuracy: 0.9472 - val_loss: 0.1438 - val_accuracy: 0.9541\n",
            "Epoch 47/100\n",
            "599/600 [============================>.] - ETA: 0s - loss: 0.1787 - accuracy: 0.9436WARNING:tensorflow:Can save best model only with acc available, skipping.\n",
            "600/600 [==============================] - 13s 22ms/step - loss: 0.1787 - accuracy: 0.9436 - val_loss: 0.1315 - val_accuracy: 0.9568\n",
            "Epoch 48/100\n",
            "600/600 [==============================] - ETA: 0s - loss: 0.1724 - accuracy: 0.9450WARNING:tensorflow:Can save best model only with acc available, skipping.\n",
            "600/600 [==============================] - 13s 22ms/step - loss: 0.1724 - accuracy: 0.9450 - val_loss: 0.1354 - val_accuracy: 0.9580\n",
            "Epoch 49/100\n",
            "598/600 [============================>.] - ETA: 0s - loss: 0.1704 - accuracy: 0.9465WARNING:tensorflow:Can save best model only with acc available, skipping.\n",
            "600/600 [==============================] - 13s 22ms/step - loss: 0.1701 - accuracy: 0.9466 - val_loss: 0.1283 - val_accuracy: 0.9594\n",
            "Epoch 50/100\n",
            "600/600 [==============================] - ETA: 0s - loss: 0.1714 - accuracy: 0.9455WARNING:tensorflow:Can save best model only with acc available, skipping.\n",
            "600/600 [==============================] - 13s 22ms/step - loss: 0.1714 - accuracy: 0.9455 - val_loss: 0.1400 - val_accuracy: 0.9551\n",
            "Epoch 51/100\n",
            "600/600 [==============================] - ETA: 0s - loss: 0.1752 - accuracy: 0.9448WARNING:tensorflow:Can save best model only with acc available, skipping.\n",
            "600/600 [==============================] - 13s 22ms/step - loss: 0.1752 - accuracy: 0.9448 - val_loss: 0.1254 - val_accuracy: 0.9609\n",
            "Epoch 52/100\n",
            "600/600 [==============================] - ETA: 0s - loss: 0.1654 - accuracy: 0.9483WARNING:tensorflow:Can save best model only with acc available, skipping.\n",
            "600/600 [==============================] - 13s 22ms/step - loss: 0.1654 - accuracy: 0.9483 - val_loss: 0.1382 - val_accuracy: 0.9576\n",
            "Epoch 53/100\n",
            "598/600 [============================>.] - ETA: 0s - loss: 0.1690 - accuracy: 0.9461WARNING:tensorflow:Can save best model only with acc available, skipping.\n",
            "600/600 [==============================] - 13s 22ms/step - loss: 0.1690 - accuracy: 0.9461 - val_loss: 0.1252 - val_accuracy: 0.9618\n",
            "Epoch 54/100\n",
            "600/600 [==============================] - ETA: 0s - loss: 0.1686 - accuracy: 0.9477WARNING:tensorflow:Can save best model only with acc available, skipping.\n",
            "600/600 [==============================] - 13s 22ms/step - loss: 0.1686 - accuracy: 0.9477 - val_loss: 0.1317 - val_accuracy: 0.9573\n",
            "Epoch 55/100\n",
            "599/600 [============================>.] - ETA: 0s - loss: 0.1659 - accuracy: 0.9473WARNING:tensorflow:Can save best model only with acc available, skipping.\n",
            "600/600 [==============================] - 13s 22ms/step - loss: 0.1659 - accuracy: 0.9473 - val_loss: 0.1250 - val_accuracy: 0.9621\n",
            "Epoch 56/100\n",
            "600/600 [==============================] - ETA: 0s - loss: 0.1682 - accuracy: 0.9455WARNING:tensorflow:Can save best model only with acc available, skipping.\n",
            "600/600 [==============================] - 14s 23ms/step - loss: 0.1682 - accuracy: 0.9455 - val_loss: 0.1333 - val_accuracy: 0.9569\n",
            "Epoch 57/100\n",
            "599/600 [============================>.] - ETA: 0s - loss: 0.1703 - accuracy: 0.9452WARNING:tensorflow:Can save best model only with acc available, skipping.\n",
            "600/600 [==============================] - 13s 22ms/step - loss: 0.1706 - accuracy: 0.9452 - val_loss: 0.1411 - val_accuracy: 0.9567\n",
            "Epoch 58/100\n",
            "599/600 [============================>.] - ETA: 0s - loss: 0.1618 - accuracy: 0.9484WARNING:tensorflow:Can save best model only with acc available, skipping.\n",
            "600/600 [==============================] - 13s 22ms/step - loss: 0.1616 - accuracy: 0.9485 - val_loss: 0.1318 - val_accuracy: 0.9579\n",
            "Epoch 59/100\n",
            "599/600 [============================>.] - ETA: 0s - loss: 0.1632 - accuracy: 0.9468WARNING:tensorflow:Can save best model only with acc available, skipping.\n",
            "600/600 [==============================] - 13s 22ms/step - loss: 0.1630 - accuracy: 0.9469 - val_loss: 0.1338 - val_accuracy: 0.9575\n",
            "Epoch 60/100\n",
            "598/600 [============================>.] - ETA: 0s - loss: 0.1607 - accuracy: 0.9500WARNING:tensorflow:Can save best model only with acc available, skipping.\n",
            "600/600 [==============================] - 13s 21ms/step - loss: 0.1605 - accuracy: 0.9500 - val_loss: 0.1208 - val_accuracy: 0.9610\n",
            "Epoch 61/100\n",
            "599/600 [============================>.] - ETA: 0s - loss: 0.1611 - accuracy: 0.9489WARNING:tensorflow:Can save best model only with acc available, skipping.\n",
            "600/600 [==============================] - 13s 22ms/step - loss: 0.1612 - accuracy: 0.9488 - val_loss: 0.1335 - val_accuracy: 0.9583\n",
            "Epoch 62/100\n",
            "600/600 [==============================] - ETA: 0s - loss: 0.1666 - accuracy: 0.9472WARNING:tensorflow:Can save best model only with acc available, skipping.\n",
            "600/600 [==============================] - 13s 22ms/step - loss: 0.1666 - accuracy: 0.9472 - val_loss: 0.1146 - val_accuracy: 0.9635\n",
            "Epoch 63/100\n",
            "598/600 [============================>.] - ETA: 0s - loss: 0.1631 - accuracy: 0.9477WARNING:tensorflow:Can save best model only with acc available, skipping.\n",
            "600/600 [==============================] - 13s 22ms/step - loss: 0.1631 - accuracy: 0.9477 - val_loss: 0.1191 - val_accuracy: 0.9624\n",
            "Epoch 64/100\n",
            "599/600 [============================>.] - ETA: 0s - loss: 0.1603 - accuracy: 0.9475WARNING:tensorflow:Can save best model only with acc available, skipping.\n",
            "600/600 [==============================] - 13s 22ms/step - loss: 0.1603 - accuracy: 0.9475 - val_loss: 0.1411 - val_accuracy: 0.9567\n",
            "Epoch 65/100\n",
            "600/600 [==============================] - ETA: 0s - loss: 0.1582 - accuracy: 0.9503WARNING:tensorflow:Can save best model only with acc available, skipping.\n",
            "600/600 [==============================] - 13s 21ms/step - loss: 0.1582 - accuracy: 0.9503 - val_loss: 0.1251 - val_accuracy: 0.9593\n",
            "Epoch 66/100\n",
            "600/600 [==============================] - ETA: 0s - loss: 0.1606 - accuracy: 0.9477WARNING:tensorflow:Can save best model only with acc available, skipping.\n",
            "600/600 [==============================] - 13s 22ms/step - loss: 0.1606 - accuracy: 0.9477 - val_loss: 0.1225 - val_accuracy: 0.9600\n",
            "Epoch 67/100\n",
            "598/600 [============================>.] - ETA: 0s - loss: 0.1597 - accuracy: 0.9489WARNING:tensorflow:Can save best model only with acc available, skipping.\n",
            "600/600 [==============================] - 13s 21ms/step - loss: 0.1598 - accuracy: 0.9489 - val_loss: 0.1254 - val_accuracy: 0.9596\n",
            "Epoch 68/100\n",
            "600/600 [==============================] - ETA: 0s - loss: 0.1576 - accuracy: 0.9508WARNING:tensorflow:Can save best model only with acc available, skipping.\n",
            "600/600 [==============================] - 13s 21ms/step - loss: 0.1576 - accuracy: 0.9508 - val_loss: 0.1265 - val_accuracy: 0.9589\n",
            "Epoch 69/100\n",
            "598/600 [============================>.] - ETA: 0s - loss: 0.1578 - accuracy: 0.9493WARNING:tensorflow:Can save best model only with acc available, skipping.\n",
            "600/600 [==============================] - 13s 22ms/step - loss: 0.1577 - accuracy: 0.9494 - val_loss: 0.1224 - val_accuracy: 0.9619\n",
            "Epoch 70/100\n",
            "600/600 [==============================] - ETA: 0s - loss: 0.1587 - accuracy: 0.9504WARNING:tensorflow:Can save best model only with acc available, skipping.\n",
            "600/600 [==============================] - 13s 21ms/step - loss: 0.1587 - accuracy: 0.9504 - val_loss: 0.1252 - val_accuracy: 0.9617\n",
            "Epoch 71/100\n",
            "599/600 [============================>.] - ETA: 0s - loss: 0.1591 - accuracy: 0.9504WARNING:tensorflow:Can save best model only with acc available, skipping.\n",
            "600/600 [==============================] - 13s 21ms/step - loss: 0.1594 - accuracy: 0.9503 - val_loss: 0.1178 - val_accuracy: 0.9633\n",
            "Epoch 72/100\n",
            "598/600 [============================>.] - ETA: 0s - loss: 0.1537 - accuracy: 0.9507WARNING:tensorflow:Can save best model only with acc available, skipping.\n",
            "600/600 [==============================] - 13s 21ms/step - loss: 0.1539 - accuracy: 0.9508 - val_loss: 0.1260 - val_accuracy: 0.9591\n",
            "Epoch 73/100\n",
            "598/600 [============================>.] - ETA: 0s - loss: 0.1612 - accuracy: 0.9493WARNING:tensorflow:Can save best model only with acc available, skipping.\n",
            "600/600 [==============================] - 13s 22ms/step - loss: 0.1615 - accuracy: 0.9492 - val_loss: 0.1240 - val_accuracy: 0.9627\n",
            "Epoch 74/100\n",
            "600/600 [==============================] - ETA: 0s - loss: 0.1570 - accuracy: 0.9501WARNING:tensorflow:Can save best model only with acc available, skipping.\n",
            "600/600 [==============================] - 13s 21ms/step - loss: 0.1570 - accuracy: 0.9501 - val_loss: 0.1231 - val_accuracy: 0.9597\n",
            "Epoch 75/100\n",
            "597/600 [============================>.] - ETA: 0s - loss: 0.1522 - accuracy: 0.9517WARNING:tensorflow:Can save best model only with acc available, skipping.\n",
            "600/600 [==============================] - 13s 21ms/step - loss: 0.1522 - accuracy: 0.9516 - val_loss: 0.1196 - val_accuracy: 0.9609\n",
            "Epoch 76/100\n",
            "600/600 [==============================] - ETA: 0s - loss: 0.1506 - accuracy: 0.9532WARNING:tensorflow:Can save best model only with acc available, skipping.\n",
            "600/600 [==============================] - 13s 22ms/step - loss: 0.1506 - accuracy: 0.9532 - val_loss: 0.1156 - val_accuracy: 0.9640\n",
            "Epoch 77/100\n",
            "600/600 [==============================] - ETA: 0s - loss: 0.1533 - accuracy: 0.9511WARNING:tensorflow:Can save best model only with acc available, skipping.\n",
            "600/600 [==============================] - 13s 22ms/step - loss: 0.1533 - accuracy: 0.9511 - val_loss: 0.1158 - val_accuracy: 0.9639\n",
            "Epoch 78/100\n",
            "599/600 [============================>.] - ETA: 0s - loss: 0.1542 - accuracy: 0.9504WARNING:tensorflow:Can save best model only with acc available, skipping.\n",
            "600/600 [==============================] - 13s 22ms/step - loss: 0.1543 - accuracy: 0.9504 - val_loss: 0.1255 - val_accuracy: 0.9566\n",
            "Epoch 79/100\n",
            "599/600 [============================>.] - ETA: 0s - loss: 0.1534 - accuracy: 0.9514WARNING:tensorflow:Can save best model only with acc available, skipping.\n",
            "600/600 [==============================] - 13s 22ms/step - loss: 0.1532 - accuracy: 0.9515 - val_loss: 0.1252 - val_accuracy: 0.9608\n",
            "Epoch 80/100\n",
            "600/600 [==============================] - ETA: 0s - loss: 0.1493 - accuracy: 0.9524WARNING:tensorflow:Can save best model only with acc available, skipping.\n",
            "600/600 [==============================] - 13s 22ms/step - loss: 0.1493 - accuracy: 0.9524 - val_loss: 0.1205 - val_accuracy: 0.9619\n",
            "Epoch 81/100\n",
            "598/600 [============================>.] - ETA: 0s - loss: 0.1505 - accuracy: 0.9530WARNING:tensorflow:Can save best model only with acc available, skipping.\n",
            "600/600 [==============================] - 13s 22ms/step - loss: 0.1506 - accuracy: 0.9530 - val_loss: 0.1294 - val_accuracy: 0.9599\n",
            "Epoch 82/100\n",
            "599/600 [============================>.] - ETA: 0s - loss: 0.1502 - accuracy: 0.9512WARNING:tensorflow:Can save best model only with acc available, skipping.\n",
            "600/600 [==============================] - 13s 22ms/step - loss: 0.1504 - accuracy: 0.9512 - val_loss: 0.1147 - val_accuracy: 0.9639\n",
            "Epoch 83/100\n",
            "600/600 [==============================] - ETA: 0s - loss: 0.1510 - accuracy: 0.9512WARNING:tensorflow:Can save best model only with acc available, skipping.\n",
            "600/600 [==============================] - 13s 22ms/step - loss: 0.1510 - accuracy: 0.9512 - val_loss: 0.1214 - val_accuracy: 0.9625\n",
            "Epoch 84/100\n",
            "599/600 [============================>.] - ETA: 0s - loss: 0.1492 - accuracy: 0.9528WARNING:tensorflow:Can save best model only with acc available, skipping.\n",
            "600/600 [==============================] - 13s 22ms/step - loss: 0.1491 - accuracy: 0.9528 - val_loss: 0.1128 - val_accuracy: 0.9644\n",
            "Epoch 85/100\n",
            "600/600 [==============================] - ETA: 0s - loss: 0.1531 - accuracy: 0.9512WARNING:tensorflow:Can save best model only with acc available, skipping.\n",
            "600/600 [==============================] - 13s 22ms/step - loss: 0.1531 - accuracy: 0.9512 - val_loss: 0.1154 - val_accuracy: 0.9635\n",
            "Epoch 86/100\n",
            "598/600 [============================>.] - ETA: 0s - loss: 0.1520 - accuracy: 0.9520WARNING:tensorflow:Can save best model only with acc available, skipping.\n",
            "600/600 [==============================] - 13s 22ms/step - loss: 0.1517 - accuracy: 0.9521 - val_loss: 0.1177 - val_accuracy: 0.9645\n",
            "Epoch 87/100\n",
            "599/600 [============================>.] - ETA: 0s - loss: 0.1465 - accuracy: 0.9523WARNING:tensorflow:Can save best model only with acc available, skipping.\n",
            "600/600 [==============================] - 13s 22ms/step - loss: 0.1466 - accuracy: 0.9523 - val_loss: 0.1222 - val_accuracy: 0.9632\n",
            "Epoch 88/100\n",
            "599/600 [============================>.] - ETA: 0s - loss: 0.1490 - accuracy: 0.9531WARNING:tensorflow:Can save best model only with acc available, skipping.\n",
            "600/600 [==============================] - 13s 22ms/step - loss: 0.1490 - accuracy: 0.9530 - val_loss: 0.1215 - val_accuracy: 0.9598\n",
            "Epoch 89/100\n",
            "599/600 [============================>.] - ETA: 0s - loss: 0.1502 - accuracy: 0.9514WARNING:tensorflow:Can save best model only with acc available, skipping.\n",
            "600/600 [==============================] - 14s 23ms/step - loss: 0.1500 - accuracy: 0.9515 - val_loss: 0.1160 - val_accuracy: 0.9640\n",
            "Epoch 90/100\n",
            "599/600 [============================>.] - ETA: 0s - loss: 0.1459 - accuracy: 0.9530WARNING:tensorflow:Can save best model only with acc available, skipping.\n",
            "600/600 [==============================] - 14s 23ms/step - loss: 0.1459 - accuracy: 0.9530 - val_loss: 0.1133 - val_accuracy: 0.9652\n",
            "Epoch 91/100\n",
            "598/600 [============================>.] - ETA: 0s - loss: 0.1441 - accuracy: 0.9536WARNING:tensorflow:Can save best model only with acc available, skipping.\n",
            "600/600 [==============================] - 13s 22ms/step - loss: 0.1444 - accuracy: 0.9535 - val_loss: 0.1209 - val_accuracy: 0.9602\n",
            "Epoch 92/100\n",
            "599/600 [============================>.] - ETA: 0s - loss: 0.1503 - accuracy: 0.9521WARNING:tensorflow:Can save best model only with acc available, skipping.\n",
            "600/600 [==============================] - 13s 22ms/step - loss: 0.1502 - accuracy: 0.9521 - val_loss: 0.1169 - val_accuracy: 0.9653\n",
            "Epoch 93/100\n",
            "598/600 [============================>.] - ETA: 0s - loss: 0.1497 - accuracy: 0.9529WARNING:tensorflow:Can save best model only with acc available, skipping.\n",
            "600/600 [==============================] - 14s 23ms/step - loss: 0.1495 - accuracy: 0.9529 - val_loss: 0.1216 - val_accuracy: 0.9632\n",
            "Epoch 94/100\n",
            "599/600 [============================>.] - ETA: 0s - loss: 0.1432 - accuracy: 0.9531WARNING:tensorflow:Can save best model only with acc available, skipping.\n",
            "600/600 [==============================] - 13s 22ms/step - loss: 0.1433 - accuracy: 0.9530 - val_loss: 0.1109 - val_accuracy: 0.9649\n",
            "Epoch 95/100\n",
            "599/600 [============================>.] - ETA: 0s - loss: 0.1475 - accuracy: 0.9535WARNING:tensorflow:Can save best model only with acc available, skipping.\n",
            "600/600 [==============================] - 13s 22ms/step - loss: 0.1477 - accuracy: 0.9535 - val_loss: 0.1100 - val_accuracy: 0.9653\n",
            "Epoch 96/100\n",
            "598/600 [============================>.] - ETA: 0s - loss: 0.1454 - accuracy: 0.9529WARNING:tensorflow:Can save best model only with acc available, skipping.\n",
            "600/600 [==============================] - 13s 22ms/step - loss: 0.1454 - accuracy: 0.9529 - val_loss: 0.1227 - val_accuracy: 0.9613\n",
            "Epoch 97/100\n",
            "598/600 [============================>.] - ETA: 0s - loss: 0.1404 - accuracy: 0.9550WARNING:tensorflow:Can save best model only with acc available, skipping.\n",
            "600/600 [==============================] - 13s 22ms/step - loss: 0.1402 - accuracy: 0.9550 - val_loss: 0.1194 - val_accuracy: 0.9613\n",
            "Epoch 98/100\n",
            "598/600 [============================>.] - ETA: 0s - loss: 0.1438 - accuracy: 0.9552WARNING:tensorflow:Can save best model only with acc available, skipping.\n",
            "600/600 [==============================] - 13s 22ms/step - loss: 0.1437 - accuracy: 0.9552 - val_loss: 0.1203 - val_accuracy: 0.9610\n",
            "Epoch 99/100\n",
            "600/600 [==============================] - ETA: 0s - loss: 0.1492 - accuracy: 0.9526WARNING:tensorflow:Can save best model only with acc available, skipping.\n",
            "600/600 [==============================] - 13s 22ms/step - loss: 0.1492 - accuracy: 0.9526 - val_loss: 0.1230 - val_accuracy: 0.9595\n",
            "Epoch 100/100\n",
            "599/600 [============================>.] - ETA: 0s - loss: 0.1457 - accuracy: 0.9540WARNING:tensorflow:Can save best model only with acc available, skipping.\n",
            "600/600 [==============================] - 13s 22ms/step - loss: 0.1456 - accuracy: 0.9540 - val_loss: 0.1310 - val_accuracy: 0.9579\n"
          ],
          "name": "stdout"
        }
      ]
    },
    {
      "cell_type": "markdown",
      "metadata": {
        "id": "0hrVAbbqDvGD"
      },
      "source": [
        "model trained on augmented data, with saving best model. Feels like this model is more exposed to more unique data as such is more fitting."
      ]
    },
    {
      "cell_type": "code",
      "metadata": {
        "id": "fuHMzWL01sLy",
        "colab": {
          "base_uri": "https://localhost:8080/",
          "height": 295
        },
        "outputId": "7d102789-f9c6-40de-950f-86d7e76aca08"
      },
      "source": [
        "import matplotlib.pyplot as plt\n",
        "loss = history.history['loss']\n",
        "val_loss = history.history['val_loss']\n",
        "epochs = range(1, len(loss) + 1)\n",
        "plt.plot(epochs, loss, color='red', label='Training loss')\n",
        "plt.plot(epochs, val_loss, color='green', label='Validation loss')\n",
        "plt.title('Training and validation loss')\n",
        "plt.xlabel('Epochs')\n",
        "plt.ylabel('Loss')\n",
        "plt.legend()\n",
        "plt.show()"
      ],
      "execution_count": null,
      "outputs": [
        {
          "output_type": "display_data",
          "data": {
            "image/png": "[encoded data removed]",
            "text/plain": [
              "<Figure size 432x288 with 1 Axes>"
            ]
          },
          "metadata": {
            "tags": [],
            "needs_background": "light"
          }
        }
      ]
    },
    {
      "cell_type": "code",
      "metadata": {
        "id": "7mR-t9iT6Uxy"
      },
      "source": [
        ""
      ],
      "execution_count": null,
      "outputs": []
    },
    {
      "cell_type": "code",
      "metadata": {
        "id": "a_QeorsY2ERm",
        "colab": {
          "base_uri": "https://localhost:8080/",
          "height": 295
        },
        "outputId": "91bbec0c-7aec-491e-b540-06b59b26f5df"
      },
      "source": [
        "import matplotlib.pyplot as plt\n",
        "\n",
        "plt.plot(history.history['accuracy'])\n",
        "plt.plot(history.history['val_accuracy'])\n",
        "plt.title('model accuracy')\n",
        "plt.ylabel('accuracy')\n",
        "plt.xlabel('epoch')\n",
        "plt.legend(['train', 'test'], loc='upper left')\n",
        "plt.show()"
      ],
      "execution_count": null,
      "outputs": [
        {
          "output_type": "display_data",
          "data": {
            "image/png": "[encoded data removed]",
            "text/plain": [
              "<Figure size 432x288 with 1 Axes>"
            ]
          },
          "metadata": {
            "tags": [],
            "needs_background": "light"
          }
        }
      ]
    },
    {
      "cell_type": "code",
      "metadata": {
        "id": "DtrkehOG_jhx"
      },
      "source": [
        ""
      ],
      "execution_count": null,
      "outputs": []
    },
    {
      "cell_type": "code",
      "metadata": {
        "id": "4XtyN0ix2R7U",
        "colab": {
          "base_uri": "https://localhost:8080/"
        },
        "outputId": "5d30026b-332d-40dd-f78a-5af881801e3c"
      },
      "source": [
        "model.summary()"
      ],
      "execution_count": null,
      "outputs": [
        {
          "output_type": "stream",
          "text": [
            "Model: \"sequential_1\"\n",
            "_________________________________________________________________\n",
            "Layer (type)                 Output Shape              Param #   \n",
            "=================================================================\n",
            "conv2d_2 (Conv2D)            (None, 24, 24, 30)        780       \n",
            "_________________________________________________________________\n",
            "max_pooling2d_2 (MaxPooling2 (None, 12, 12, 30)        0         \n",
            "_________________________________________________________________\n",
            "conv2d_3 (Conv2D)            (None, 10, 10, 15)        4065      \n",
            "_________________________________________________________________\n",
            "max_pooling2d_3 (MaxPooling2 (None, 5, 5, 15)          0         \n",
            "_________________________________________________________________\n",
            "dropout_1 (Dropout)          (None, 5, 5, 15)          0         \n",
            "_________________________________________________________________\n",
            "flatten_1 (Flatten)          (None, 375)               0         \n",
            "_________________________________________________________________\n",
            "dense_3 (Dense)              (None, 128)               48128     \n",
            "_________________________________________________________________\n",
            "dense_4 (Dense)              (None, 50)                6450      \n",
            "_________________________________________________________________\n",
            "dense_5 (Dense)              (None, 10)                510       \n",
            "=================================================================\n",
            "Total params: 59,933\n",
            "Trainable params: 59,933\n",
            "Non-trainable params: 0\n",
            "_________________________________________________________________\n"
          ],
          "name": "stdout"
        }
      ]
    },
    {
      "cell_type": "code",
      "metadata": {
        "id": "2ITVcTl_2SCV"
      },
      "source": [
        "from sklearn.metrics import confusion_matrix\n",
        "import numpy as np\n",
        "import seaborn as sns\n",
        "Y_prediction = model.predict(X_test)\n",
        "# Convert predictions classes to one hot vectors \n",
        "Y_pred_classes = np.argmax(Y_prediction,axis = 1) \n",
        "# Convert validation observations to one hot vectors\n",
        "Y_true = np.argmax(y_test,axis = 1) \n",
        "# compute the confusion matrix\n",
        "confusion_mtx = confusion_matrix(Y_true, Y_pred_classes) "
      ],
      "execution_count": null,
      "outputs": []
    },
    {
      "cell_type": "code",
      "metadata": {
        "id": "MVmr9Unh2R_A",
        "colab": {
          "base_uri": "https://localhost:8080/",
          "height": 483
        },
        "outputId": "71e652ba-ef93-494a-f2de-fdd2675bfa8a"
      },
      "source": [
        "plt.figure(figsize=(10,8))\n",
        "sns.heatmap(confusion_mtx, annot=True, fmt=\"d\");"
      ],
      "execution_count": null,
      "outputs": [
        {
          "output_type": "display_data",
          "data": {
            "image/png": "[encoded data removed]",
            "text/plain": [
              "<Figure size 720x576 with 2 Axes>"
            ]
          },
          "metadata": {
            "tags": [],
            "needs_background": "light"
          }
        }
      ]
    },
    {
      "cell_type": "markdown",
      "metadata": {
        "id": "_WO5FSWCEAAq"
      },
      "source": [
        "confusion matrix on the model trained on augmented data. Very interesting to see 1 recognised as 8 vice versa. "
      ]
    },
    {
      "cell_type": "code",
      "metadata": {
        "id": "1RMixOQ9-X4c"
      },
      "source": [
        ""
      ],
      "execution_count": null,
      "outputs": []
    },
    {
      "cell_type": "code",
      "metadata": {
        "id": "cRCPOU4g-XSl"
      },
      "source": [
        ""
      ],
      "execution_count": null,
      "outputs": []
    },
    {
      "cell_type": "code",
      "metadata": {
        "id": "_U28YpxX-XWJ"
      },
      "source": [
        ""
      ],
      "execution_count": null,
      "outputs": []
    },
    {
      "cell_type": "code",
      "metadata": {
        "id": "YODmvtZp1oo5"
      },
      "source": [
        ""
      ],
      "execution_count": null,
      "outputs": []
    },
    {
      "cell_type": "code",
      "metadata": {
        "id": "yHYnDhM_ymQK"
      },
      "source": [
        ""
      ],
      "execution_count": null,
      "outputs": []
    },
    {
      "cell_type": "code",
      "metadata": {
        "id": "mwAqqZRTymT-"
      },
      "source": [
        ""
      ],
      "execution_count": null,
      "outputs": []
    },
    {
      "cell_type": "markdown",
      "metadata": {
        "id": "t2u6rJYf1VKR"
      },
      "source": [
        "#  Did you process the features in any way (e.g. normalization)?\n",
        "- Yes, i normalized the features as each pixel values has a range of 0 to 255, i normalized it such that the pixel values only ranges from 0 to 1, so that the values wouldnt not be so skewed."
      ]
    },
    {
      "cell_type": "markdown",
      "metadata": {
        "id": "_mGHupud02X4"
      },
      "source": [
        "# How did you select which CNN architecture to use?\n",
        "The cnn architecure is made up of a convolutional layer with 30 feature maps of size 5×5, ooling layer taking the max over 2*2 patches, to progressively reduce the spatial size of the representation to reduce the amount of parameters and computation in the networkconvolutional layer with 15 feature maps of size 3×3,Pooling layer taking the max over 2*2 patches,dropout layer with a probability of 20% to randomly exclude 20% of neurons in the layer in order to reduce overfitting flatten layer to convert the data into a 1-dimensional array for inputting it to the next layerfully connected layer with 128 neurons and rectifier activation, and a output layer to output the image.\n"
      ]
    },
    {
      "source": [
        "#  How do you evaluate the quality of your system?\n",
        "- After training the model, there will be a 'value accuracy' for each epoch and that will give me an indication how well the model recognize the digits.There will also be a loss function to see how far the values ranges from the original value. I plot the loss and value accuracy graph against epochs afterwards to have a rough idea how good my model is performing till certain epochs.\n",
        "\n"
      ],
      "cell_type": "markdown",
      "metadata": {
        "id": "n62gaGLW1pB-"
      }
    },
    {
      "cell_type": "markdown",
      "metadata": {
        "id": "a-Bs0n8Q2pSb"
      },
      "source": [
        "# • Can you say anything about the errors that the system makes?\n",
        "- Using confusion matrix, i can detect what i call a 'false positive' in the model, whereby the model mistakenly recognize a certain digit from another that has a slight resemblance to each other. \n"
      ]
    },
    {
      "cell_type": "markdown",
      "metadata": {
        "id": "x5VlOE983mgd"
      },
      "source": [
        "#Please show how you have improved the model from the initial\n",
        "\n",
        "- i started from a simple nn model from the practical, having 6 layers, a hidden layer consisting of 32 feature maps, a pooling layer with a pool size 2x2,a regularization layer using dropout to randomly exlcude 20% neurons in layer to reduce overfit.Next is a layer that converts 2D matrix data  to a vector called flatten to allow output to be processed by fully connected layers.\n",
        "Next is a fully connected layer with 128 neurons and rectifier activation function. Lastly the output layer has 10 neurons for the 10 classes and a softmax activation function to output probability like predictions for each class. obtaining a val accuracy of 99% and a 0.3 % loss.\n",
        "\n",
        "The one i used to work on is the complex nn model\n",
        "•\tConvolutional layer with 30 feature maps of size 5×5.\n",
        "•\tPooling layer taking the max over 2*2 patches.\n",
        "•\tConvolutional layer with 15 feature maps of size 3×3.\n",
        "•\tPooling layer taking the max over 2*2 patches.\n",
        "•\tDropout layer with a probability of 20%.\n",
        "•\tFlatten layer.\n",
        "•\tFully connected layer with 128 neurons and rectifier activation.\n",
        "•\tFully connected layer with 50 neurons and rectifier activation.\n",
        "•\tOutput layer.\n",
        "\n",
        "Then i further tuned the model by augmenting the data(rotation) and only saving the best performing model in terms of accruacy afterwards."
      ]
    }
  ]
}